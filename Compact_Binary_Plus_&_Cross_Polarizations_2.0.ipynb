{
 "cells": [
  {
   "cell_type": "code",
   "execution_count": 12,
   "metadata": {},
   "outputs": [],
   "source": [
    "import matplotlib.pyplot as plt # For ploting\n",
    "import numpy as np # To work with numerical data efficiently"
   ]
  },
  {
   "cell_type": "code",
   "execution_count": 13,
   "metadata": {},
   "outputs": [],
   "source": [
    "c = 299792458.0 #The Speed of Light in m/s\n",
    "G = 6.67408e-11 # The Gravitional Constant\n",
    "M_sun = 1.9884754153381438e+30 # The mass of the sun\n",
    "f_0 = float(10) # An Initial frequency of 10 Hz\n",
    "m_1 = 114*M_sun # Mass of Object 1 in the Binary\n",
    "m_2 = 114*M_sun # Mass of Object 2 in the Binary\n",
    "omega_0 = 2*np.pi*f_0 # This is the inital angular frequency\n",
    "M = m_1 + m_2 # Total Mass of the Binarry system\n",
    "f_LSO = (c**3)/((6**(3/2))*(np.pi)*(G*M)) # The frequency when the two objects merge\n",
    "omega_LSO = 2*np.pi*f_LSO # The angular frequency when the two objects merge"
   ]
  },
  {
   "cell_type": "code",
   "execution_count": 14,
   "metadata": {},
   "outputs": [],
   "source": [
    "if M >0:\n",
    "    v = (m_1*m_2)/(M**2) # Symmetric Mass\n",
    "    M_chirp = (v**(3/5))*M # Chirp Mass\n",
    "    if M_chirp >0: # We used if statments to not get the division by zero error\n",
    "        if omega_0>0:\n",
    "            t_c = (5/256)*((c/(G*M_chirp))**(5/3))*((1/omega_0)**(8/3))"
   ]
  },
  {
   "cell_type": "code",
   "execution_count": 15,
   "metadata": {},
   "outputs": [],
   "source": [
    "t_LSO = (1 - (omega_0/omega_LSO)**(8/3))*t_c #Time at which the two objects merge"
   ]
  },
  {
   "cell_type": "code",
   "execution_count": 16,
   "metadata": {},
   "outputs": [],
   "source": [
    "def omega(t): \n",
    "    return omega_0*(1- (t/t_c))**(-3/8) # We defined the angular frequency as a function of t"
   ]
  },
  {
   "cell_type": "code",
   "execution_count": 17,
   "metadata": {},
   "outputs": [],
   "source": [
    "def phi(t):\n",
    "    return (-1/32)*((G*M_chirp*omega(t))/c)**(-5/3) # We defined the orbital phase"
   ]
  },
  {
   "cell_type": "code",
   "execution_count": 18,
   "metadata": {},
   "outputs": [],
   "source": [
    "r = 10**23 # Distancce of Binary from earth in meters"
   ]
  },
  {
   "cell_type": "code",
   "execution_count": 19,
   "metadata": {},
   "outputs": [],
   "source": [
    "# Now we will define the plus polarization for gravitional waves from a compact binary\n",
    "def h_plus(i,t):\n",
    "    return (2*M_chirp/r)*((M_chirp*omega(t))**(2/3))*(1+(np.cos(i)**2))*np.cos(2*phi(t))"
   ]
  },
  {
   "cell_type": "code",
   "execution_count": 20,
   "metadata": {},
   "outputs": [],
   "source": [
    "# Now we will define the cross polarization for gravitional waves from a compact binary\n",
    "def h_cross(i,t):\n",
    "    return (4*M_chirp/r)*((M_chirp*omega(t))**(2/3))*np.cos(i)*np.sin(2*phi(t))"
   ]
  },
  {
   "cell_type": "code",
   "execution_count": 22,
   "metadata": {},
   "outputs": [
    {
     "data": {
      "text/plain": [
       "[<matplotlib.lines.Line2D at 0x11b1747f0>]"
      ]
     },
     "execution_count": 22,
     "metadata": {},
     "output_type": "execute_result"
    },
    {
     "data": {
      "image/png": "[encoded data removed]",
      "text/plain": [
       "<Figure size 432x288 with 1 Axes>"
      ]
     },
     "metadata": {},
     "output_type": "display_data"
    }
   ],
   "source": [
    "t = np.arange(0, t_LSO, 0.01)\n",
    "i = 90\n",
    "# compose plot\\\n",
    "plt.figure(1)\n",
    "plt.plot(t, h_plus(i,t))"
   ]
  },
  {
   "cell_type": "code",
   "execution_count": null,
   "metadata": {},
   "outputs": [],
   "source": []
  }
 ],
 "metadata": {
  "kernelspec": {
   "display_name": "Python 3",
   "language": "python",
   "name": "python3"
  },
  "language_info": {
   "codemirror_mode": {
    "name": "ipython",
    "version": 3
   },
   "file_extension": ".py",
   "mimetype": "text/x-python",
   "name": "python",
   "nbconvert_exporter": "python",
   "pygments_lexer": "ipython3",
   "version": "3.6.5"
  }
 },
 "nbformat": 4,
 "nbformat_minor": 2
}
